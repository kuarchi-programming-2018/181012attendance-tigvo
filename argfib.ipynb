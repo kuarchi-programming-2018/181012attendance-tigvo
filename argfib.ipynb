{
 "cells": [
  {
   "cell_type": "code",
   "execution_count": 5,
   "metadata": {},
   "outputs": [
    {
     "name": "stdout",
     "output_type": "stream",
     "text": [
      "1597\n"
     ]
    }
   ],
   "source": [
    "def fib(n):\n",
    "    x=0\n",
    "    y=1\n",
    "    for i in  range(n):\n",
    "        z=x+y\n",
    "        x=y\n",
    "        y=z\n",
    "    return x\n",
    "def argfib(m):\n",
    "    i=0\n",
    "    while m>=fib(i):\n",
    "        if fib(i+1)>m:\n",
    "            return fib(i)\n",
    "        else:\n",
    "            i+=1\n",
    "m=2018\n",
    "print(argfib(m))"
   ]
  },
  {
   "cell_type": "code",
   "execution_count": null,
   "metadata": {},
   "outputs": [],
   "source": []
  }
 ],
 "metadata": {
  "kernelspec": {
   "display_name": "Python 3",
   "language": "python",
   "name": "python3"
  },
  "language_info": {
   "codemirror_mode": {
    "name": "ipython",
    "version": 3
   },
   "file_extension": ".py",
   "mimetype": "text/x-python",
   "name": "python",
   "nbconvert_exporter": "python",
   "pygments_lexer": "ipython3",
   "version": "3.7.0"
  }
 },
 "nbformat": 4,
 "nbformat_minor": 2
}
